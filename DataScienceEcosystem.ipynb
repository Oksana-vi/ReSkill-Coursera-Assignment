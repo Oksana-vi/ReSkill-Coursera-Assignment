{
 "cells": [
  {
   "cell_type": "markdown",
   "id": "3b1ab32f-7963-4cb8-aa98-4d1dea40971e",
   "metadata": {},
   "source": [
    "# Data Science Tools and Ecosystem\n"
   ]
  },
  {
   "cell_type": "markdown",
   "id": "fefb3fa0-1159-4b34-bdef-2d07feccf146",
   "metadata": {},
   "source": [
    "In this notebook, Data Science Tools and Ecosystem are summarized."
   ]
  },
  {
   "cell_type": "markdown",
   "id": "f66d75ee-c3d7-446d-9254-660ab01f3e8d",
   "metadata": {},
   "source": [
    "**Objectives:**\n",
    "- list popular languages for Data Science \n",
    "- list popular Data Science libraries\n",
    "- list popular open source Data Science tools"
   ]
  },
  {
   "cell_type": "markdown",
   "id": "5569544e-6250-4f1c-9704-6ee3e4d90daa",
   "metadata": {},
   "source": [
    "Some of the popular languages that Data Scientists use are:"
   ]
  },
  {
   "cell_type": "markdown",
   "id": "87a4a1ac-64c7-439c-bfd3-543256ddfb16",
   "metadata": {},
   "source": [
    "1. Python\n",
    "2. R\n",
    "3. SQL\n",
    "4. Scala\n",
    "5. Java"
   ]
  },
  {
   "cell_type": "markdown",
   "id": "923dafe1-0cd3-4049-b9ef-530d382518e3",
   "metadata": {},
   "source": [
    "Some of the commonly used libraries used by Data Scientists include:"
   ]
  },
  {
   "cell_type": "markdown",
   "id": "f0e7b2ab-6e9c-4ea6-94ea-a4e74d76ebde",
   "metadata": {},
   "source": [
    "1. Pandas\n",
    "2. NumPy\n",
    "3. Matplotlib\n",
    "4. Seaborn\n",
    "5. Scikit-learn\n",
    "6. ggplot2"
   ]
  },
  {
   "cell_type": "markdown",
   "id": "e35b3c3f-766e-49c8-9a48-06e25d1da6ff",
   "metadata": {},
   "source": [
    "| Data Science Tools |\n",
    "----------------------\n",
    "|Jupiter|\n",
    "| Apache Zeppelin |\n",
    "| RStudio |"
   ]
  },
  {
   "cell_type": "markdown",
   "id": "37b1e02b-0ef2-42c7-b41c-90e145011661",
   "metadata": {},
   "source": [
    "### Below are a few examples of evaluating arithmetic expressions in Python."
   ]
  },
  {
   "cell_type": "code",
   "execution_count": null,
   "id": "476dfbb8-7d8c-4a64-819c-cc82f8bd52de",
   "metadata": {},
   "outputs": [],
   "source": [
    "#This a simple arithmetic expression to mutiply then add integers."
   ]
  },
  {
   "cell_type": "code",
   "execution_count": 2,
   "id": "97d18dcb-41e9-483e-bc73-956b54640956",
   "metadata": {},
   "outputs": [
    {
     "data": {
      "text/plain": [
       "17"
      ]
     },
     "execution_count": 2,
     "metadata": {},
     "output_type": "execute_result"
    }
   ],
   "source": [
    "(3*4)+5"
   ]
  },
  {
   "cell_type": "code",
   "execution_count": 11,
   "id": "750149b1-3b1c-4b26-9645-2805c59984c6",
   "metadata": {},
   "outputs": [
    {
     "data": {
      "text/plain": [
       "3.3333333333333335"
      ]
     },
     "execution_count": 11,
     "metadata": {},
     "output_type": "execute_result"
    }
   ],
   "source": [
    "#This will convert 200 minutes to hours by diving by 60\n",
    "a = 200 # Assigning 200 minutes to the variable called \"a\"\n",
    "a / 60 # Converting minutes to hours by dividing by 60"
   ]
  },
  {
   "cell_type": "markdown",
   "id": "103c178c-0f7f-402c-8302-4982165a6653",
   "metadata": {},
   "source": [
    "## Author\n",
    "Oksana Ivchenko"
   ]
  },
  {
   "cell_type": "code",
   "execution_count": null,
   "id": "7462e037-e105-405f-b37f-487dfa02d887",
   "metadata": {},
   "outputs": [],
   "source": []
  }
 ],
 "metadata": {
  "kernelspec": {
   "display_name": "Python 3 (ipykernel)",
   "language": "python",
   "name": "python3"
  },
  "language_info": {
   "codemirror_mode": {
    "name": "ipython",
    "version": 3
   },
   "file_extension": ".py",
   "mimetype": "text/x-python",
   "name": "python",
   "nbconvert_exporter": "python",
   "pygments_lexer": "ipython3",
   "version": "3.12.4"
  }
 },
 "nbformat": 4,
 "nbformat_minor": 5
}
